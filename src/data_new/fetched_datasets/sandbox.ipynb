{
 "cells": [
  {
   "cell_type": "code",
   "execution_count": 6,
   "metadata": {},
   "outputs": [],
   "source": [
    "\n",
    "import json\n",
    "\n",
    "path = \"/Users/ankamenskiy/SmartDota/src/data_new/fetched_datasets/match_data__[start_time_start-1743800400].json\"\n",
    "\n",
    "with open(path, 'r') as f:\n",
    "    data = json.load(f)\n",
    "\n",
    "with open(path, 'w') as f:\n",
    "    json.dump(data['rows'], f, indent=2)\n",
    "\n",
    "# print(str(data[\"rows\"][0]).replace(\"'\", '\"'))"
   ]
  },
  {
   "cell_type": "code",
   "execution_count": null,
   "metadata": {},
   "outputs": [],
   "source": []
  }
 ],
 "metadata": {
  "language_info": {
   "name": "python"
  }
 },
 "nbformat": 4,
 "nbformat_minor": 2
}
