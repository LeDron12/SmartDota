{
 "cells": [
  {
   "cell_type": "code",
   "execution_count": 1,
   "metadata": {},
   "outputs": [],
   "source": [
    "%load_ext autoreload\n",
    "%autoreload 2"
   ]
  },
  {
   "cell_type": "code",
   "execution_count": 2,
   "metadata": {},
   "outputs": [],
   "source": [
    "import dataclasses\n",
    "import json\n",
    "import os"
   ]
  },
  {
   "cell_type": "markdown",
   "metadata": {},
   "source": [
    "# TODO\n",
    "\n",
    "### Докачать матчей и добавить поле ВРЕМЯ к матчам"
   ]
  },
  {
   "cell_type": "code",
   "execution_count": null,
   "metadata": {},
   "outputs": [],
   "source": [
    "import sys\n",
    "sys.path.append('/Users/ankamenskiy/SmartDota/')\n",
    "\n",
    "from src.data.api.download import ProMatchesDataloader\n",
    "\n",
    "\n",
    "downloader = ProMatchesDataloader(4, verbose=True, use_key=True, debug=True)\n",
    "\n",
    "TOTAL_AMOUNT_LOAD = 5\n",
    "path = f'../../cache/pro_{TOTAL_AMOUNT_LOAD}'\n",
    "downloader.load(path)\n",
    "\n",
    "TOTAL_AMOUNT_SAVE = 15 # 1000 + 4000\n",
    "path = f'../../cache/pro_{TOTAL_AMOUNT_SAVE}'\n",
    "matches = downloader(TOTAL_AMOUNT_SAVE - TOTAL_AMOUNT_LOAD)\n",
    "downloader.save(path)\n",
    "\n",
    "print(len(downloader.data))\n",
    "print(downloader.requests_cnt)\n",
    "\n",
    "# d = [dataclasses.asdict(elem) for elem in downloader.data]\n",
    "# with open('a.json', 'w') as f:\n",
    "#     f.write(json.dumps(d))"
   ]
  },
  {
   "cell_type": "code",
   "execution_count": 24,
   "metadata": {},
   "outputs": [],
   "source": [
    "import dataclasses\n",
    "import json\n",
    "\n",
    "with open('c.json', 'w') as f:\n",
    "    j = dataclasses.asdict(downloader.data[1])\n",
    "    f.write(json.dumps(j))"
   ]
  },
  {
   "cell_type": "code",
   "execution_count": null,
   "metadata": {},
   "outputs": [],
   "source": []
  }
 ],
 "metadata": {
  "kernelspec": {
   "display_name": "Python 3",
   "language": "python",
   "name": "python3"
  },
  "language_info": {
   "codemirror_mode": {
    "name": "ipython",
    "version": 3
   },
   "file_extension": ".py",
   "mimetype": "text/x-python",
   "name": "python",
   "nbconvert_exporter": "python",
   "pygments_lexer": "ipython3",
   "version": "3.9.6"
  }
 },
 "nbformat": 4,
 "nbformat_minor": 2
}
