{
 "cells": [
  {
   "cell_type": "code",
   "execution_count": 1,
   "metadata": {},
   "outputs": [],
   "source": [
    "%load_ext autoreload\n",
    "%autoreload 2"
   ]
  },
  {
   "cell_type": "code",
   "execution_count": 10,
   "metadata": {},
   "outputs": [],
   "source": [
    "import dataclasses\n",
    "import json"
   ]
  },
  {
   "cell_type": "code",
   "execution_count": 13,
   "metadata": {},
   "outputs": [],
   "source": [
    "import sys\n",
    "sys.path.append('/home/ankamenskiy/SmartDota/')\n",
    "\n",
    "from src.data.api.download import ProMatchesDataloader\n",
    "\n",
    "# TOTAL_AMOUNT = 1_000\n",
    "TOTAL_AMOUNT = 10\n",
    "path = f'../../cache/pro_{TOTAL_AMOUNT}'\n",
    "\n",
    "downloader = ProMatchesDataloader(4)\n",
    "# matches = downloader(TOTAL_AMOUNT)\n",
    "# downloader.save(path)\n",
    "downloader.load(path)\n",
    "\n",
    "d = [dataclasses.asdict(elem) for elem in downloader.data]\n",
    "with open('a.json', 'w') as f:\n",
    "    f.write(json.dumps(d))"
   ]
  },
  {
   "cell_type": "code",
   "execution_count": null,
   "metadata": {},
   "outputs": [],
   "source": []
  }
 ],
 "metadata": {
  "kernelspec": {
   "display_name": "Python 3",
   "language": "python",
   "name": "python3"
  },
  "language_info": {
   "codemirror_mode": {
    "name": "ipython",
    "version": 3
   },
   "file_extension": ".py",
   "mimetype": "text/x-python",
   "name": "python",
   "nbconvert_exporter": "python",
   "pygments_lexer": "ipython3",
   "version": "3.10.12"
  }
 },
 "nbformat": 4,
 "nbformat_minor": 2
}
