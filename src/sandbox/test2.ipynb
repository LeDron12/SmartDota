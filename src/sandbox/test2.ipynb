{
 "cells": [
  {
   "cell_type": "code",
   "execution_count": 1,
   "metadata": {},
   "outputs": [],
   "source": [
    "%load_ext autoreload\n",
    "%autoreload 2"
   ]
  },
  {
   "cell_type": "code",
   "execution_count": 2,
   "metadata": {},
   "outputs": [],
   "source": [
    "import dataclasses\n",
    "import json\n",
    "import os"
   ]
  },
  {
   "cell_type": "markdown",
   "metadata": {},
   "source": [
    "# PRO"
   ]
  },
  {
   "cell_type": "code",
   "execution_count": null,
   "metadata": {},
   "outputs": [],
   "source": [
    "import sys\n",
    "sys.path.append('/Users/ankamenskiy/SmartDota/')\n",
    "\n",
    "from src.data.api.OpenDota.pro_matches_dataloader import ProMatchesDataloader\n",
    "\n",
    "\n",
    "downloader = ProMatchesDataloader(num_threads=4, verbose=True, use_key=True)\n",
    "\n",
    "TOTAL_AMOUNT_LOAD = 6_000\n",
    "path = f'../../cache/pro_{TOTAL_AMOUNT_LOAD}'\n",
    "downloader.load(path)\n",
    "\n",
    "TOTAL_AMOUNT_SAVE = 10_000\n",
    "path = f'../../cache/pro_{TOTAL_AMOUNT_SAVE}'\n",
    "matches = downloader(TOTAL_AMOUNT_SAVE - TOTAL_AMOUNT_LOAD)\n",
    "downloader.save(path)\n",
    "\n",
    "print('Loaded matches: ', len(downloader.data))\n",
    "print('Requests count: ', downloader.requests_cnt)\n",
    "\n",
    "# d = [dataclasses.asdict(elem) for elem in downloader.data]\n",
    "# with open('a.json', 'w') as f:\n",
    "#     f.write(json.dumps(d))"
   ]
  },
  {
   "cell_type": "markdown",
   "metadata": {},
   "source": [
    "# PUBLIC DOWNLOAD"
   ]
  },
  {
   "cell_type": "code",
   "execution_count": 23,
   "metadata": {},
   "outputs": [
    {
     "name": "stdout",
     "output_type": "stream",
     "text": [
      "e881de34-fef0-4d0e-8e45-851c569ba3a2\n",
      "Last match index: 7512775201\n"
     ]
    },
    {
     "data": {
      "application/vnd.jupyter.widget-view+json": {
       "model_id": "5fd6fc913677467bac9adce68eca476b",
       "version_major": 2,
       "version_minor": 0
      },
      "text/plain": [
       "Loading matches batched progress:: 0it [00:00, ?it/s]"
      ]
     },
     "metadata": {},
     "output_type": "display_data"
    },
    {
     "data": {
      "application/vnd.jupyter.widget-view+json": {
       "model_id": "090ceca8dc514a73b8473dc31278e0d4",
       "version_major": 2,
       "version_minor": 0
      },
      "text/plain": [
       "Loading public matches data from OpenDota:   0%|          | 0/500 [00:00<?, ?it/s]"
      ]
     },
     "metadata": {},
     "output_type": "display_data"
    },
    {
     "data": {
      "application/vnd.jupyter.widget-view+json": {
       "model_id": "c855efa14cf74a57b86dccd856bf8a11",
       "version_major": 2,
       "version_minor": 0
      },
      "text/plain": [
       "Loading public matches data from OpenDota:   0%|          | 0/500 [00:00<?, ?it/s]"
      ]
     },
     "metadata": {},
     "output_type": "display_data"
    },
    {
     "data": {
      "application/vnd.jupyter.widget-view+json": {
       "model_id": "34bdbb0cfe1944c591c375a1fe593847",
       "version_major": 2,
       "version_minor": 0
      },
      "text/plain": [
       "Loading public matches data from OpenDota:   0%|          | 0/500 [00:00<?, ?it/s]"
      ]
     },
     "metadata": {},
     "output_type": "display_data"
    },
    {
     "data": {
      "application/vnd.jupyter.widget-view+json": {
       "model_id": "8bfbb7c2a0a048aead8dd3660b4b834b",
       "version_major": 2,
       "version_minor": 0
      },
      "text/plain": [
       "Loading public matches data from OpenDota:   0%|          | 0/500 [00:00<?, ?it/s]"
      ]
     },
     "metadata": {},
     "output_type": "display_data"
    },
    {
     "data": {
      "application/vnd.jupyter.widget-view+json": {
       "model_id": "d13026bce0ee4338926b9495fa40bc62",
       "version_major": 2,
       "version_minor": 0
      },
      "text/plain": [
       "Loading public matches data from OpenDota:   0%|          | 0/500 [00:00<?, ?it/s]"
      ]
     },
     "metadata": {},
     "output_type": "display_data"
    },
    {
     "data": {
      "application/vnd.jupyter.widget-view+json": {
       "model_id": "eff006d774344377bbc3d5e5f094e4d8",
       "version_major": 2,
       "version_minor": 0
      },
      "text/plain": [
       "Loading public matches data from OpenDota:   0%|          | 0/500 [00:00<?, ?it/s]"
      ]
     },
     "metadata": {},
     "output_type": "display_data"
    },
    {
     "data": {
      "application/vnd.jupyter.widget-view+json": {
       "model_id": "72194b06ff5e4e288d800e9fbac4fd4f",
       "version_major": 2,
       "version_minor": 0
      },
      "text/plain": [
       "Loading public matches data from OpenDota:   0%|          | 0/500 [00:00<?, ?it/s]"
      ]
     },
     "metadata": {},
     "output_type": "display_data"
    },
    {
     "data": {
      "application/vnd.jupyter.widget-view+json": {
       "model_id": "86c60e190e26437f9661ee1d6815e0b3",
       "version_major": 2,
       "version_minor": 0
      },
      "text/plain": [
       "Loading public matches data from OpenDota:   0%|          | 0/500 [00:00<?, ?it/s]"
      ]
     },
     "metadata": {},
     "output_type": "display_data"
    },
    {
     "data": {
      "application/vnd.jupyter.widget-view+json": {
       "model_id": "16e0d9fb20284b30b6631a8a9800696e",
       "version_major": 2,
       "version_minor": 0
      },
      "text/plain": [
       "Loading public matches data from OpenDota:   0%|          | 0/500 [00:00<?, ?it/s]"
      ]
     },
     "metadata": {},
     "output_type": "display_data"
    },
    {
     "data": {
      "application/vnd.jupyter.widget-view+json": {
       "model_id": "5b944379bd5c4c4cb97734ecf985d83f",
       "version_major": 2,
       "version_minor": 0
      },
      "text/plain": [
       "Loading public matches data from OpenDota:   0%|          | 0/500 [00:00<?, ?it/s]"
      ]
     },
     "metadata": {},
     "output_type": "display_data"
    },
    {
     "data": {
      "application/vnd.jupyter.widget-view+json": {
       "model_id": "91df5a1533b4433ba5d3c897ef15c1c0",
       "version_major": 2,
       "version_minor": 0
      },
      "text/plain": [
       "Loading public matches data from OpenDota:   0%|          | 0/500 [00:00<?, ?it/s]"
      ]
     },
     "metadata": {},
     "output_type": "display_data"
    },
    {
     "data": {
      "application/vnd.jupyter.widget-view+json": {
       "model_id": "2cbfab025f844809b685bc103a9b0f42",
       "version_major": 2,
       "version_minor": 0
      },
      "text/plain": [
       "Loading public matches data from OpenDota:   0%|          | 0/500 [00:00<?, ?it/s]"
      ]
     },
     "metadata": {},
     "output_type": "display_data"
    },
    {
     "data": {
      "application/vnd.jupyter.widget-view+json": {
       "model_id": "c20050c77a734d1aa9947bc9e9502a78",
       "version_major": 2,
       "version_minor": 0
      },
      "text/plain": [
       "Loading public matches data from OpenDota:   0%|          | 0/500 [00:00<?, ?it/s]"
      ]
     },
     "metadata": {},
     "output_type": "display_data"
    },
    {
     "data": {
      "application/vnd.jupyter.widget-view+json": {
       "model_id": "b6af9955de4f4651a3f3f5f53950c092",
       "version_major": 2,
       "version_minor": 0
      },
      "text/plain": [
       "Loading public matches data from OpenDota:   0%|          | 0/500 [00:00<?, ?it/s]"
      ]
     },
     "metadata": {},
     "output_type": "display_data"
    },
    {
     "data": {
      "application/vnd.jupyter.widget-view+json": {
       "model_id": "129ee378100c4684b2f785ab6c5f462f",
       "version_major": 2,
       "version_minor": 0
      },
      "text/plain": [
       "Loading public matches data from OpenDota:   0%|          | 0/500 [00:00<?, ?it/s]"
      ]
     },
     "metadata": {},
     "output_type": "display_data"
    },
    {
     "data": {
      "application/vnd.jupyter.widget-view+json": {
       "model_id": "f800816e0cd3415ab1a0fade9ce334c3",
       "version_major": 2,
       "version_minor": 0
      },
      "text/plain": [
       "Loading public matches data from OpenDota:   0%|          | 0/500 [00:00<?, ?it/s]"
      ]
     },
     "metadata": {},
     "output_type": "display_data"
    },
    {
     "data": {
      "application/vnd.jupyter.widget-view+json": {
       "model_id": "814f5c18053f4821a0dc23f0bf86babe",
       "version_major": 2,
       "version_minor": 0
      },
      "text/plain": [
       "Loading public matches data from OpenDota:   0%|          | 0/500 [00:00<?, ?it/s]"
      ]
     },
     "metadata": {},
     "output_type": "display_data"
    },
    {
     "data": {
      "application/vnd.jupyter.widget-view+json": {
       "model_id": "fa361c29f6be4c27987ec4a909567f49",
       "version_major": 2,
       "version_minor": 0
      },
      "text/plain": [
       "Loading public matches data from OpenDota:   0%|          | 0/500 [00:00<?, ?it/s]"
      ]
     },
     "metadata": {},
     "output_type": "display_data"
    },
    {
     "data": {
      "application/vnd.jupyter.widget-view+json": {
       "model_id": "1a55acf1f6ca4b39a72acd3b56c81c98",
       "version_major": 2,
       "version_minor": 0
      },
      "text/plain": [
       "Loading public matches data from OpenDota:   0%|          | 0/500 [00:00<?, ?it/s]"
      ]
     },
     "metadata": {},
     "output_type": "display_data"
    },
    {
     "data": {
      "application/vnd.jupyter.widget-view+json": {
       "model_id": "27d165204b0c4090a4c2a9fb5f5c4672",
       "version_major": 2,
       "version_minor": 0
      },
      "text/plain": [
       "Loading public matches data from OpenDota:   0%|          | 0/500 [00:00<?, ?it/s]"
      ]
     },
     "metadata": {},
     "output_type": "display_data"
    },
    {
     "data": {
      "application/vnd.jupyter.widget-view+json": {
       "model_id": "ca66c6c71cbd4701be7670e04acef6da",
       "version_major": 2,
       "version_minor": 0
      },
      "text/plain": [
       "Loading public matches data from OpenDota: 0it [00:00, ?it/s]"
      ]
     },
     "metadata": {},
     "output_type": "display_data"
    },
    {
     "name": "stdout",
     "output_type": "stream",
     "text": [
      "Loaded matches:  110000\n",
      "Requests count:  120\n"
     ]
    }
   ],
   "source": [
    "import sys\n",
    "sys.path.append('/Users/ankamenskiy/SmartDota/')\n",
    "\n",
    "from src.data.api.OpenDota.public_matches_dataloader import PublicMatchesDataloader\n",
    "\n",
    "\n",
    "downloader = PublicMatchesDataloader(\n",
    "    patch_timestamp_start=1703278800,\n",
    "    patch_timestamp_end=1708549200,\n",
    "    num_threads=4,\n",
    "    batch_size=500,\n",
    "    verbose=True, \n",
    "    # debug=True,\n",
    "    use_key=True\n",
    ")\n",
    "\n",
    "TOTAL_AMOUNT_LOAD = 100_000\n",
    "path = f'../../cache/public_{TOTAL_AMOUNT_LOAD}'\n",
    "downloader.load(path)\n",
    "\n",
    "TOTAL_AMOUNT_SAVE = 110_000\n",
    "path = f'../../cache/public_{TOTAL_AMOUNT_SAVE}'\n",
    "matches = downloader(TOTAL_AMOUNT_SAVE - TOTAL_AMOUNT_LOAD)\n",
    "downloader.save(path)\n",
    "\n",
    "print('Loaded matches: ', len(downloader.data))\n",
    "print('Requests count: ', downloader.requests_cnt)\n",
    "\n",
    "# d = [dataclasses.asdict(elem) for elem in downloader.data]\n",
    "# with open('a.json', 'w') as f:\n",
    "#     f.write(json.dumps(d))"
   ]
  },
  {
   "cell_type": "code",
   "execution_count": 21,
   "metadata": {},
   "outputs": [
    {
     "name": "stdout",
     "output_type": "stream",
     "text": [
      "Last match index: 7512775201\n"
     ]
    }
   ],
   "source": [
    "# TOTAL_AMOUNT_LOAD = 100_000\n",
    "# path = f'../../cache/public_{TOTAL_AMOUNT_LOAD}'\n",
    "# downloader.load(path)"
   ]
  },
  {
   "cell_type": "code",
   "execution_count": 24,
   "metadata": {},
   "outputs": [
    {
     "name": "stdout",
     "output_type": "stream",
     "text": [
      "1703440467\n"
     ]
    },
    {
     "data": {
      "text/plain": [
       "(110000, (108937,))"
      ]
     },
     "execution_count": 24,
     "metadata": {},
     "output_type": "execute_result"
    }
   ],
   "source": [
    "import numpy as np\n",
    "\n",
    "ids = [elem.match_id for elem in downloader.data]\n",
    "print(min([elem.start_time for elem in downloader.data]))\n",
    "len(downloader.data), np.unique(ids).shape"
   ]
  },
  {
   "cell_type": "code",
   "execution_count": 19,
   "metadata": {},
   "outputs": [],
   "source": [
    "# from src.data.dataclasses.match import MatchData\n",
    "# from src.data.dataclasses.pro_match import ProMatchData\n",
    "\n",
    "# import sys\n",
    "# sys.path.append('/Users/ankamenskiy/SmartDota/')\n",
    "\n",
    "\n",
    "# d = []\n",
    "# for match in downloader.data:\n",
    "#     d.append(\n",
    "#         MatchData(\n",
    "#                 match_id=match.match_id,\n",
    "#                 public_match_data=None,\n",
    "#                 pro_match_data=ProMatchData(\n",
    "#                     match_id=match.pro_match_data.match_id,\n",
    "#                     duration=None,\n",
    "#                     start_time=None,\n",
    "#                     radiant_team_id=match.pro_match_data.radiant_team_id,\n",
    "#                     dire_team_id=match.pro_match_data.dire_team_id,\n",
    "#                     leagueid=match.pro_match_data.leagueid,\n",
    "#                     series_type=match.pro_match_data.series_type,\n",
    "#                     radiant_score=match.pro_match_data.radiant_score,\n",
    "#                     dire_score=match.pro_match_data.dire_score,\n",
    "#                     radiant_win=match.pro_match_data.radiant_win,\n",
    "#                 ),\n",
    "#                 barracks_status_dire=match.barracks_status_dire,\n",
    "#                 barracks_status_radiant=match.barracks_status_radiant,\n",
    "#                 dire_score=match.dire_score,\n",
    "#                 draft_timings=match.draft_timings,\n",
    "#                 picks_bans=match.picks_bans,\n",
    "#                 duration=match.duration,\n",
    "#                 first_blood_time=match.first_blood_time,\n",
    "#                 leagueid=match.leagueid,\n",
    "#                 objectives=match.objectives,\n",
    "#                 radiant_gold_adv=match.radiant_gold_adv,\n",
    "#                 radiant_score=match.radiant_score,\n",
    "#                 radiant_win=match.radiant_win,\n",
    "#                 radiant_xp_adv=match.radiant_xp_adv,\n",
    "#                 teamfights=match.teamfights,\n",
    "#                 tower_status_dire=match.tower_status_dire,\n",
    "#                 tower_status_radiant=match.match_id,\n",
    "#                 version=match.version,\n",
    "#                 series_id=match.series_id,\n",
    "#                 radiant_team=match.radiant_team,\n",
    "#                 dire_team=match.dire_team,\n",
    "#                 players=match.players,\n",
    "#                 patch=match.patch,\n",
    "#                 throw=match.throw,\n",
    "#                 comeback=match.comeback,\n",
    "#         )\n",
    "#     )"
   ]
  },
  {
   "cell_type": "code",
   "execution_count": null,
   "metadata": {},
   "outputs": [],
   "source": []
  }
 ],
 "metadata": {
  "kernelspec": {
   "display_name": "Python 3",
   "language": "python",
   "name": "python3"
  },
  "language_info": {
   "codemirror_mode": {
    "name": "ipython",
    "version": 3
   },
   "file_extension": ".py",
   "mimetype": "text/x-python",
   "name": "python",
   "nbconvert_exporter": "python",
   "pygments_lexer": "ipython3",
   "version": "3.9.6"
  }
 },
 "nbformat": 4,
 "nbformat_minor": 2
}
